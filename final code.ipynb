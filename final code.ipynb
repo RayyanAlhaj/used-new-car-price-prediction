{
 "cells": [
  {
   "cell_type": "code",
   "execution_count": 211,
   "metadata": {},
   "outputs": [],
   "source": [
    "import pandas as pd\n",
    "import numpy as np\n",
    "import matplotlib.pyplot as plt\n",
    "import seaborn as sns\n",
    "from sklearn.model_selection import train_test_split\n",
    "from sklearn.linear_model import LinearRegression,Ridge\n",
    "import numpy.random as rnd\n",
    "import statsmodels.api as sm"
   ]
  },
  {
   "cell_type": "markdown",
   "metadata": {},
   "source": [
    "# Data Analysis and Visualization"
   ]
  },
  {
   "cell_type": "code",
   "execution_count": 150,
   "metadata": {},
   "outputs": [
    {
     "data": {
      "text/html": [
       "<div>\n",
       "<style scoped>\n",
       "    .dataframe tbody tr th:only-of-type {\n",
       "        vertical-align: middle;\n",
       "    }\n",
       "\n",
       "    .dataframe tbody tr th {\n",
       "        vertical-align: top;\n",
       "    }\n",
       "\n",
       "    .dataframe thead th {\n",
       "        text-align: right;\n",
       "    }\n",
       "</style>\n",
       "<table border=\"1\" class=\"dataframe\">\n",
       "  <thead>\n",
       "    <tr style=\"text-align: right;\">\n",
       "      <th></th>\n",
       "      <th>Listing date</th>\n",
       "      <th>Brand</th>\n",
       "      <th>sherry</th>\n",
       "      <th>model</th>\n",
       "      <th>year</th>\n",
       "      <th>fuel</th>\n",
       "      <th>gear</th>\n",
       "      <th>km</th>\n",
       "      <th>case type</th>\n",
       "      <th>color</th>\n",
       "      <th>price</th>\n",
       "      <th>status</th>\n",
       "    </tr>\n",
       "  </thead>\n",
       "  <tbody>\n",
       "    <tr>\n",
       "      <th>0</th>\n",
       "      <td>March 12, 2022</td>\n",
       "      <td>Renault</td>\n",
       "      <td>talisman</td>\n",
       "      <td>1.6 dCi Icon</td>\n",
       "      <td>2016</td>\n",
       "      <td>diesel</td>\n",
       "      <td>Semi-automatic</td>\n",
       "      <td>106300</td>\n",
       "      <td>sedan</td>\n",
       "      <td>smoked</td>\n",
       "      <td>417500</td>\n",
       "      <td>2</td>\n",
       "    </tr>\n",
       "    <tr>\n",
       "      <th>1</th>\n",
       "      <td>2022-03-28 00:00:00</td>\n",
       "      <td>Chevrolet</td>\n",
       "      <td>Captiva</td>\n",
       "      <td>2.0 D LT High</td>\n",
       "      <td>2011</td>\n",
       "      <td>diesel</td>\n",
       "      <td>Semi-automatic</td>\n",
       "      <td>227500</td>\n",
       "      <td>SUV</td>\n",
       "      <td>white</td>\n",
       "      <td>219500</td>\n",
       "      <td>1</td>\n",
       "    </tr>\n",
       "    <tr>\n",
       "      <th>2</th>\n",
       "      <td>2022-03-28 00:00:00</td>\n",
       "      <td>Volkswagen</td>\n",
       "      <td>Amarok</td>\n",
       "      <td>2.0 Bi-TDI Highline</td>\n",
       "      <td>2013</td>\n",
       "      <td>diesel</td>\n",
       "      <td>Automatic</td>\n",
       "      <td>150000</td>\n",
       "      <td>Pickup</td>\n",
       "      <td>Black</td>\n",
       "      <td>359000</td>\n",
       "      <td>1</td>\n",
       "    </tr>\n",
       "    <tr>\n",
       "      <th>3</th>\n",
       "      <td>2022-03-28 00:00:00</td>\n",
       "      <td>Volkswagen</td>\n",
       "      <td>Amarok</td>\n",
       "      <td>2.0 Bi-TDI Highline</td>\n",
       "      <td>2017</td>\n",
       "      <td>diesel</td>\n",
       "      <td>Manual</td>\n",
       "      <td>115000</td>\n",
       "      <td>Pickup</td>\n",
       "      <td>gray</td>\n",
       "      <td>505000</td>\n",
       "      <td>1</td>\n",
       "    </tr>\n",
       "    <tr>\n",
       "      <th>4</th>\n",
       "      <td>March 30, 2022</td>\n",
       "      <td>Dacia</td>\n",
       "      <td>duster</td>\n",
       "      <td>1.5 dCi Laureate</td>\n",
       "      <td>2016</td>\n",
       "      <td>diesel</td>\n",
       "      <td>Manual</td>\n",
       "      <td>60300</td>\n",
       "      <td>SUV</td>\n",
       "      <td>smoked</td>\n",
       "      <td>310000</td>\n",
       "      <td>2</td>\n",
       "    </tr>\n",
       "  </tbody>\n",
       "</table>\n",
       "</div>"
      ],
      "text/plain": [
       "         Listing date         Brand     sherry                 model  year  \\\n",
       "0       March 12, 2022     Renault   talisman          1.6 dCi Icon   2016   \n",
       "1  2022-03-28 00:00:00   Chevrolet    Captiva         2.0 D LT High   2011   \n",
       "2  2022-03-28 00:00:00  Volkswagen     Amarok   2.0 Bi-TDI Highline   2013   \n",
       "3  2022-03-28 00:00:00  Volkswagen     Amarok   2.0 Bi-TDI Highline   2017   \n",
       "4       March 30, 2022       Dacia     duster      1.5 dCi Laureate   2016   \n",
       "\n",
       "     fuel            gear      km case type   color   price  status  \n",
       "0  diesel  Semi-automatic  106300     sedan  smoked  417500       2  \n",
       "1  diesel  Semi-automatic  227500       SUV   white  219500       1  \n",
       "2  diesel       Automatic  150000    Pickup   Black  359000       1  \n",
       "3  diesel          Manual  115000    Pickup    gray  505000       1  \n",
       "4  diesel          Manual   60300       SUV  smoked  310000       2  "
      ]
     },
     "execution_count": 150,
     "metadata": {},
     "output_type": "execute_result"
    }
   ],
   "source": [
    "df = pd.read_excel(r'C:\\Users\\hp\\OneDrive\\Desktop\\f\\\\Cardatanew.xlsx')\n",
    "df.head(5)"
   ]
  },
  {
   "cell_type": "code",
   "execution_count": 151,
   "metadata": {},
   "outputs": [
    {
     "name": "stdout",
     "output_type": "stream",
     "text": [
      "<class 'pandas.core.frame.DataFrame'>\n",
      "RangeIndex: 199 entries, 0 to 198\n",
      "Data columns (total 12 columns):\n",
      " #   Column         Non-Null Count  Dtype \n",
      "---  ------         --------------  ----- \n",
      " 0   Listing date   199 non-null    object\n",
      " 1   Brand          199 non-null    object\n",
      " 2   sherry         199 non-null    object\n",
      " 3   model          198 non-null    object\n",
      " 4   year           199 non-null    int64 \n",
      " 5   fuel           199 non-null    object\n",
      " 6   gear           199 non-null    object\n",
      " 7   km             199 non-null    int64 \n",
      " 8   case type      199 non-null    object\n",
      " 9   color          199 non-null    object\n",
      " 10  price          199 non-null    object\n",
      " 11  status         199 non-null    int64 \n",
      "dtypes: int64(3), object(9)\n",
      "memory usage: 18.8+ KB\n"
     ]
    }
   ],
   "source": [
    "df.info()"
   ]
  },
  {
   "cell_type": "code",
   "execution_count": 152,
   "metadata": {},
   "outputs": [
    {
     "data": {
      "text/html": [
       "<div>\n",
       "<style scoped>\n",
       "    .dataframe tbody tr th:only-of-type {\n",
       "        vertical-align: middle;\n",
       "    }\n",
       "\n",
       "    .dataframe tbody tr th {\n",
       "        vertical-align: top;\n",
       "    }\n",
       "\n",
       "    .dataframe thead th {\n",
       "        text-align: right;\n",
       "    }\n",
       "</style>\n",
       "<table border=\"1\" class=\"dataframe\">\n",
       "  <thead>\n",
       "    <tr style=\"text-align: right;\">\n",
       "      <th></th>\n",
       "      <th>year</th>\n",
       "      <th>km</th>\n",
       "      <th>status</th>\n",
       "    </tr>\n",
       "  </thead>\n",
       "  <tbody>\n",
       "    <tr>\n",
       "      <th>count</th>\n",
       "      <td>199.000000</td>\n",
       "      <td>1.990000e+02</td>\n",
       "      <td>199.000000</td>\n",
       "    </tr>\n",
       "    <tr>\n",
       "      <th>mean</th>\n",
       "      <td>2013.180905</td>\n",
       "      <td>2.240937e+05</td>\n",
       "      <td>1.437186</td>\n",
       "    </tr>\n",
       "    <tr>\n",
       "      <th>std</th>\n",
       "      <td>5.460366</td>\n",
       "      <td>3.317673e+05</td>\n",
       "      <td>0.497290</td>\n",
       "    </tr>\n",
       "    <tr>\n",
       "      <th>min</th>\n",
       "      <td>1990.000000</td>\n",
       "      <td>0.000000e+00</td>\n",
       "      <td>1.000000</td>\n",
       "    </tr>\n",
       "    <tr>\n",
       "      <th>25%</th>\n",
       "      <td>2011.000000</td>\n",
       "      <td>5.250000e+04</td>\n",
       "      <td>1.000000</td>\n",
       "    </tr>\n",
       "    <tr>\n",
       "      <th>50%</th>\n",
       "      <td>2014.000000</td>\n",
       "      <td>1.325000e+05</td>\n",
       "      <td>1.000000</td>\n",
       "    </tr>\n",
       "    <tr>\n",
       "      <th>75%</th>\n",
       "      <td>2017.000000</td>\n",
       "      <td>2.345000e+05</td>\n",
       "      <td>2.000000</td>\n",
       "    </tr>\n",
       "    <tr>\n",
       "      <th>max</th>\n",
       "      <td>2022.000000</td>\n",
       "      <td>1.800000e+06</td>\n",
       "      <td>2.000000</td>\n",
       "    </tr>\n",
       "  </tbody>\n",
       "</table>\n",
       "</div>"
      ],
      "text/plain": [
       "              year            km      status\n",
       "count   199.000000  1.990000e+02  199.000000\n",
       "mean   2013.180905  2.240937e+05    1.437186\n",
       "std       5.460366  3.317673e+05    0.497290\n",
       "min    1990.000000  0.000000e+00    1.000000\n",
       "25%    2011.000000  5.250000e+04    1.000000\n",
       "50%    2014.000000  1.325000e+05    1.000000\n",
       "75%    2017.000000  2.345000e+05    2.000000\n",
       "max    2022.000000  1.800000e+06    2.000000"
      ]
     },
     "execution_count": 152,
     "metadata": {},
     "output_type": "execute_result"
    }
   ],
   "source": [
    "df.describe()"
   ]
  },
  {
   "cell_type": "code",
   "execution_count": 153,
   "metadata": {},
   "outputs": [
    {
     "data": {
      "text/plain": [
       "Index(['Listing date ', 'Brand', 'sherry', 'model', 'year', 'fuel', 'gear',\n",
       "       'km', 'case type', 'color', 'price', 'status'],\n",
       "      dtype='object')"
      ]
     },
     "execution_count": 153,
     "metadata": {},
     "output_type": "execute_result"
    }
   ],
   "source": [
    "df.columns"
   ]
  },
  {
   "cell_type": "code",
   "execution_count": 154,
   "metadata": {},
   "outputs": [
    {
     "data": {
      "text/plain": [
       "(199, 12)"
      ]
     },
     "execution_count": 154,
     "metadata": {},
     "output_type": "execute_result"
    }
   ],
   "source": [
    "df.shape"
   ]
  },
  {
   "cell_type": "code",
   "execution_count": 155,
   "metadata": {},
   "outputs": [
    {
     "name": "stdout",
     "output_type": "stream",
     "text": [
      "Columns with missing values:\n",
      "['model']\n"
     ]
    }
   ],
   "source": [
    "cols_with_missing = [col for col in df.columns\n",
    "                     if df[col].isnull().any()]\n",
    "print(\"Columns with missing values:\")\n",
    "print(cols_with_missing)"
   ]
  },
  {
   "cell_type": "code",
   "execution_count": 156,
   "metadata": {},
   "outputs": [],
   "source": [
    "def get_null_count(df):\n",
    "    for i in df.columns: \n",
    "        print(i,':',len(df[df[i].isnull()][i]))"
   ]
  },
  {
   "cell_type": "code",
   "execution_count": 157,
   "metadata": {
    "scrolled": true
   },
   "outputs": [
    {
     "name": "stdout",
     "output_type": "stream",
     "text": [
      "Listing date  : 0\n",
      "Brand : 0\n",
      "sherry : 0\n",
      "model : 1\n",
      "year : 0\n",
      "fuel : 0\n",
      "gear : 0\n",
      "km : 0\n",
      "case type : 0\n",
      "color : 0\n",
      "price : 0\n",
      "status : 0\n"
     ]
    }
   ],
   "source": [
    "get_null_count(df)"
   ]
  },
  {
   "cell_type": "code",
   "execution_count": 158,
   "metadata": {},
   "outputs": [
    {
     "name": "stdout",
     "output_type": "stream",
     "text": [
      "Total Missing:  1\n"
     ]
    },
    {
     "data": {
      "image/png": "[encoded data removed]",
      "text/plain": [
       "<Figure size 432x288 with 1 Axes>"
      ]
     },
     "metadata": {},
     "output_type": "display_data"
    }
   ],
   "source": [
    "sns.heatmap(df.isnull(), cbar=False)\n",
    "print(\"Total Missing: \", df.isna().sum().values.sum())"
   ]
  },
  {
   "cell_type": "code",
   "execution_count": 159,
   "metadata": {},
   "outputs": [
    {
     "data": {
      "text/plain": [
       "0             1.6 dCi Icon \n",
       "1            2.0 D LT High \n",
       "2      2.0 Bi-TDI Highline \n",
       "3      2.0 Bi-TDI Highline \n",
       "4         1.5 dCi Laureate \n",
       "               ...         \n",
       "194                       2\n",
       "195                   320i \n",
       "196              Exclusive \n",
       "197                    2.0T\n",
       "198               2.0 TFSI \n",
       "Name: model, Length: 198, dtype: object"
      ]
     },
     "execution_count": 159,
     "metadata": {},
     "output_type": "execute_result"
    }
   ],
   "source": [
    "df['model'].dropna()"
   ]
  },
  {
   "cell_type": "code",
   "execution_count": 160,
   "metadata": {},
   "outputs": [],
   "source": [
    "df['price'] = df['price'].astype('int64')"
   ]
  },
  {
   "cell_type": "code",
   "execution_count": 161,
   "metadata": {},
   "outputs": [],
   "source": [
    "df['sherry'] = df['sherry'].astype(str)"
   ]
  },
  {
   "cell_type": "code",
   "execution_count": 162,
   "metadata": {},
   "outputs": [],
   "source": [
    "df['model']= df['model'].astype(str)"
   ]
  },
  {
   "cell_type": "code",
   "execution_count": 163,
   "metadata": {},
   "outputs": [],
   "source": [
    "df['fuel']= df['fuel'].astype(str)"
   ]
  },
  {
   "cell_type": "code",
   "execution_count": 164,
   "metadata": {},
   "outputs": [],
   "source": [
    "df['case type']= df['case type'].astype(str)"
   ]
  },
  {
   "cell_type": "code",
   "execution_count": 165,
   "metadata": {},
   "outputs": [],
   "source": [
    "df['caseType']= df['case type']"
   ]
  },
  {
   "cell_type": "code",
   "execution_count": 166,
   "metadata": {},
   "outputs": [],
   "source": [
    "del df['case type']"
   ]
  },
  {
   "cell_type": "code",
   "execution_count": 167,
   "metadata": {},
   "outputs": [
    {
     "name": "stdout",
     "output_type": "stream",
     "text": [
      "<class 'pandas.core.frame.DataFrame'>\n",
      "RangeIndex: 199 entries, 0 to 198\n",
      "Data columns (total 12 columns):\n",
      " #   Column         Non-Null Count  Dtype \n",
      "---  ------         --------------  ----- \n",
      " 0   Listing date   199 non-null    object\n",
      " 1   Brand          199 non-null    object\n",
      " 2   sherry         199 non-null    object\n",
      " 3   model          199 non-null    object\n",
      " 4   year           199 non-null    int64 \n",
      " 5   fuel           199 non-null    object\n",
      " 6   gear           199 non-null    object\n",
      " 7   km             199 non-null    int64 \n",
      " 8   color          199 non-null    object\n",
      " 9   price          199 non-null    int64 \n",
      " 10  status         199 non-null    int64 \n",
      " 11  caseType       199 non-null    object\n",
      "dtypes: int64(4), object(8)\n",
      "memory usage: 18.8+ KB\n"
     ]
    }
   ],
   "source": [
    "df.info()"
   ]
  },
  {
   "cell_type": "code",
   "execution_count": 168,
   "metadata": {},
   "outputs": [
    {
     "data": {
      "text/html": [
       "<div>\n",
       "<style scoped>\n",
       "    .dataframe tbody tr th:only-of-type {\n",
       "        vertical-align: middle;\n",
       "    }\n",
       "\n",
       "    .dataframe tbody tr th {\n",
       "        vertical-align: top;\n",
       "    }\n",
       "\n",
       "    .dataframe thead th {\n",
       "        text-align: right;\n",
       "    }\n",
       "</style>\n",
       "<table border=\"1\" class=\"dataframe\">\n",
       "  <thead>\n",
       "    <tr style=\"text-align: right;\">\n",
       "      <th></th>\n",
       "      <th>year</th>\n",
       "      <th>km</th>\n",
       "      <th>price</th>\n",
       "      <th>status</th>\n",
       "    </tr>\n",
       "  </thead>\n",
       "  <tbody>\n",
       "    <tr>\n",
       "      <th>count</th>\n",
       "      <td>199.000000</td>\n",
       "      <td>1.990000e+02</td>\n",
       "      <td>199.000000</td>\n",
       "      <td>199.000000</td>\n",
       "    </tr>\n",
       "    <tr>\n",
       "      <th>mean</th>\n",
       "      <td>2013.180905</td>\n",
       "      <td>2.240937e+05</td>\n",
       "      <td>412131.100503</td>\n",
       "      <td>1.437186</td>\n",
       "    </tr>\n",
       "    <tr>\n",
       "      <th>std</th>\n",
       "      <td>5.460366</td>\n",
       "      <td>3.317673e+05</td>\n",
       "      <td>254415.417766</td>\n",
       "      <td>0.497290</td>\n",
       "    </tr>\n",
       "    <tr>\n",
       "      <th>min</th>\n",
       "      <td>1990.000000</td>\n",
       "      <td>0.000000e+00</td>\n",
       "      <td>18500.000000</td>\n",
       "      <td>1.000000</td>\n",
       "    </tr>\n",
       "    <tr>\n",
       "      <th>25%</th>\n",
       "      <td>2011.000000</td>\n",
       "      <td>5.250000e+04</td>\n",
       "      <td>213750.000000</td>\n",
       "      <td>1.000000</td>\n",
       "    </tr>\n",
       "    <tr>\n",
       "      <th>50%</th>\n",
       "      <td>2014.000000</td>\n",
       "      <td>1.325000e+05</td>\n",
       "      <td>362000.000000</td>\n",
       "      <td>1.000000</td>\n",
       "    </tr>\n",
       "    <tr>\n",
       "      <th>75%</th>\n",
       "      <td>2017.000000</td>\n",
       "      <td>2.345000e+05</td>\n",
       "      <td>599750.000000</td>\n",
       "      <td>2.000000</td>\n",
       "    </tr>\n",
       "    <tr>\n",
       "      <th>max</th>\n",
       "      <td>2022.000000</td>\n",
       "      <td>1.800000e+06</td>\n",
       "      <td>975000.000000</td>\n",
       "      <td>2.000000</td>\n",
       "    </tr>\n",
       "  </tbody>\n",
       "</table>\n",
       "</div>"
      ],
      "text/plain": [
       "              year            km          price      status\n",
       "count   199.000000  1.990000e+02     199.000000  199.000000\n",
       "mean   2013.180905  2.240937e+05  412131.100503    1.437186\n",
       "std       5.460366  3.317673e+05  254415.417766    0.497290\n",
       "min    1990.000000  0.000000e+00   18500.000000    1.000000\n",
       "25%    2011.000000  5.250000e+04  213750.000000    1.000000\n",
       "50%    2014.000000  1.325000e+05  362000.000000    1.000000\n",
       "75%    2017.000000  2.345000e+05  599750.000000    2.000000\n",
       "max    2022.000000  1.800000e+06  975000.000000    2.000000"
      ]
     },
     "execution_count": 168,
     "metadata": {},
     "output_type": "execute_result"
    }
   ],
   "source": [
    "df.describe()"
   ]
  },
  {
   "cell_type": "code",
   "execution_count": 169,
   "metadata": {},
   "outputs": [
    {
     "data": {
      "text/plain": [
       "Index(['Listing date ', 'Brand', 'sherry', 'model', 'year', 'fuel', 'gear',\n",
       "       'km', 'color', 'price', 'status', 'caseType'],\n",
       "      dtype='object')"
      ]
     },
     "execution_count": 169,
     "metadata": {},
     "output_type": "execute_result"
    }
   ],
   "source": [
    "df.columns"
   ]
  },
  {
   "cell_type": "code",
   "execution_count": 170,
   "metadata": {},
   "outputs": [
    {
     "data": {
      "text/plain": [
       "Index(['Listing date ', 'Brand', 'sherry', 'model', 'year', 'fuel', 'gear',\n",
       "       'km', 'color', 'price', 'status', 'caseType'],\n",
       "      dtype='object')"
      ]
     },
     "execution_count": 170,
     "metadata": {},
     "output_type": "execute_result"
    }
   ],
   "source": [
    "df. columns"
   ]
  },
  {
   "cell_type": "code",
   "execution_count": 171,
   "metadata": {
    "scrolled": true
   },
   "outputs": [
    {
     "name": "stdout",
     "output_type": "stream",
     "text": [
      "<class 'pandas.core.frame.DataFrame'>\n",
      "RangeIndex: 199 entries, 0 to 198\n",
      "Data columns (total 12 columns):\n",
      " #   Column         Non-Null Count  Dtype \n",
      "---  ------         --------------  ----- \n",
      " 0   Listing date   199 non-null    object\n",
      " 1   Brand          199 non-null    object\n",
      " 2   sherry         199 non-null    object\n",
      " 3   model          199 non-null    object\n",
      " 4   year           199 non-null    int64 \n",
      " 5   fuel           199 non-null    object\n",
      " 6   gear           199 non-null    object\n",
      " 7   km             199 non-null    int64 \n",
      " 8   color          199 non-null    object\n",
      " 9   price          199 non-null    int64 \n",
      " 10  status         199 non-null    int64 \n",
      " 11  caseType       199 non-null    object\n",
      "dtypes: int64(4), object(8)\n",
      "memory usage: 18.8+ KB\n"
     ]
    }
   ],
   "source": [
    "df.info()"
   ]
  },
  {
   "cell_type": "code",
   "execution_count": null,
   "metadata": {},
   "outputs": [],
   "source": []
  },
  {
   "cell_type": "code",
   "execution_count": 172,
   "metadata": {
    "scrolled": true
   },
   "outputs": [
    {
     "data": {
      "text/plain": [
       "<matplotlib.axes._subplots.AxesSubplot at 0x29f2ded70d0>"
      ]
     },
     "execution_count": 172,
     "metadata": {},
     "output_type": "execute_result"
    },
    {
     "data": {
      "image/png": "[encoded data removed]",
      "text/plain": [
       "<Figure size 864x648 with 1 Axes>"
      ]
     },
     "metadata": {},
     "output_type": "display_data"
    }
   ],
   "source": [
    "plt.figure(figsize=(12, 9))\n",
    "sns.barplot('status', 'price', data=df)"
   ]
  },
  {
   "cell_type": "code",
   "execution_count": 173,
   "metadata": {
    "scrolled": false
   },
   "outputs": [
    {
     "data": {
      "text/plain": [
       "<matplotlib.axes._subplots.AxesSubplot at 0x29f30124610>"
      ]
     },
     "execution_count": 173,
     "metadata": {},
     "output_type": "execute_result"
    },
    {
     "data": {
      "image/png": "[encoded data removed]",
      "text/plain": [
       "<Figure size 1080x576 with 1 Axes>"
      ]
     },
     "metadata": {},
     "output_type": "display_data"
    }
   ],
   "source": [
    "plt.figure(figsize = (15,8))\n",
    "sns.lineplot(x = 'year', y = 'price',data = df)"
   ]
  },
  {
   "cell_type": "code",
   "execution_count": 174,
   "metadata": {
    "scrolled": false
   },
   "outputs": [
    {
     "data": {
      "text/plain": [
       "<matplotlib.axes._subplots.AxesSubplot at 0x29f2da08730>"
      ]
     },
     "execution_count": 174,
     "metadata": {},
     "output_type": "execute_result"
    },
    {
     "data": {
      "image/png": "[encoded data removed]",
      "text/plain": [
       "<Figure size 864x648 with 1 Axes>"
      ]
     },
     "metadata": {},
     "output_type": "display_data"
    }
   ],
   "source": [
    "plt.figure(figsize=(12, 9))\n",
    "sns.countplot('year', data=df\n",
    "             )"
   ]
  },
  {
   "cell_type": "code",
   "execution_count": 175,
   "metadata": {},
   "outputs": [
    {
     "data": {
      "text/plain": [
       "<matplotlib.axes._subplots.AxesSubplot at 0x29f2e78ba60>"
      ]
     },
     "execution_count": 175,
     "metadata": {},
     "output_type": "execute_result"
    },
    {
     "data": {
      "image/png": "[encoded data removed]",
      "text/plain": [
       "<Figure size 720x504 with 1 Axes>"
      ]
     },
     "metadata": {},
     "output_type": "display_data"
    }
   ],
   "source": [
    "plt.figure(figsize=(10, 7))\n",
    "sns.barplot('fuel', 'price', data=df)"
   ]
  },
  {
   "cell_type": "code",
   "execution_count": 176,
   "metadata": {},
   "outputs": [
    {
     "data": {
      "text/plain": [
       "<matplotlib.axes._subplots.AxesSubplot at 0x29f2e72cb80>"
      ]
     },
     "execution_count": 176,
     "metadata": {},
     "output_type": "execute_result"
    },
    {
     "data": {
      "image/png": "[encoded data removed]",
      "text/plain": [
       "<Figure size 576x432 with 1 Axes>"
      ]
     },
     "metadata": {},
     "output_type": "display_data"
    }
   ],
   "source": [
    "plt.figure(figsize=(8, 6))\n",
    "sns.countplot('gear', data=df)"
   ]
  },
  {
   "cell_type": "code",
   "execution_count": 177,
   "metadata": {},
   "outputs": [
    {
     "data": {
      "text/plain": [
       "<matplotlib.axes._subplots.AxesSubplot at 0x29f2fbeb610>"
      ]
     },
     "execution_count": 177,
     "metadata": {},
     "output_type": "execute_result"
    },
    {
     "data": {
      "image/png": "[encoded data removed]",
      "text/plain": [
       "<Figure size 720x504 with 1 Axes>"
      ]
     },
     "metadata": {},
     "output_type": "display_data"
    }
   ],
   "source": [
    "plt.figure(figsize=(10, 7))\n",
    "sns.barplot('gear', 'price', data=df)"
   ]
  },
  {
   "cell_type": "code",
   "execution_count": 178,
   "metadata": {},
   "outputs": [
    {
     "data": {
      "text/plain": [
       "<matplotlib.axes._subplots.AxesSubplot at 0x29f2e7b0df0>"
      ]
     },
     "execution_count": 178,
     "metadata": {},
     "output_type": "execute_result"
    },
    {
     "data": {
      "image/png": "[encoded data removed]",
      "text/plain": [
       "<Figure size 720x504 with 1 Axes>"
      ]
     },
     "metadata": {},
     "output_type": "display_data"
    }
   ],
   "source": [
    "plt.figure(figsize=(10, 7))\n",
    "sns.boxplot('gear', 'price', data=df)"
   ]
  },
  {
   "cell_type": "code",
   "execution_count": null,
   "metadata": {},
   "outputs": [],
   "source": []
  },
  {
   "cell_type": "code",
   "execution_count": 179,
   "metadata": {
    "scrolled": true
   },
   "outputs": [
    {
     "data": {
      "text/plain": [
       "Index(['Listing date ', 'Brand', 'sherry', 'model', 'year', 'fuel', 'gear',\n",
       "       'km', 'color', 'price', 'status', 'caseType'],\n",
       "      dtype='object')"
      ]
     },
     "execution_count": 179,
     "metadata": {},
     "output_type": "execute_result"
    }
   ],
   "source": [
    "df.columns"
   ]
  },
  {
   "cell_type": "markdown",
   "metadata": {},
   "source": [
    "# Preprocessing"
   ]
  },
  {
   "cell_type": "code",
   "execution_count": 180,
   "metadata": {},
   "outputs": [],
   "source": [
    "from sklearn.preprocessing import LabelEncoder"
   ]
  },
  {
   "cell_type": "code",
   "execution_count": 181,
   "metadata": {},
   "outputs": [],
   "source": [
    "Brand1 = LabelEncoder()"
   ]
  },
  {
   "cell_type": "code",
   "execution_count": 182,
   "metadata": {},
   "outputs": [],
   "source": [
    "df['Brand'] = Brand1.fit_transform(df.Brand)"
   ]
  },
  {
   "cell_type": "code",
   "execution_count": 183,
   "metadata": {},
   "outputs": [
    {
     "data": {
      "text/html": [
       "<div>\n",
       "<style scoped>\n",
       "    .dataframe tbody tr th:only-of-type {\n",
       "        vertical-align: middle;\n",
       "    }\n",
       "\n",
       "    .dataframe tbody tr th {\n",
       "        vertical-align: top;\n",
       "    }\n",
       "\n",
       "    .dataframe thead th {\n",
       "        text-align: right;\n",
       "    }\n",
       "</style>\n",
       "<table border=\"1\" class=\"dataframe\">\n",
       "  <thead>\n",
       "    <tr style=\"text-align: right;\">\n",
       "      <th></th>\n",
       "      <th>Listing date</th>\n",
       "      <th>Brand</th>\n",
       "      <th>sherry</th>\n",
       "      <th>model</th>\n",
       "      <th>year</th>\n",
       "      <th>fuel</th>\n",
       "      <th>gear</th>\n",
       "      <th>km</th>\n",
       "      <th>color</th>\n",
       "      <th>price</th>\n",
       "      <th>status</th>\n",
       "      <th>caseType</th>\n",
       "    </tr>\n",
       "  </thead>\n",
       "  <tbody>\n",
       "    <tr>\n",
       "      <th>0</th>\n",
       "      <td>March 12, 2022</td>\n",
       "      <td>33</td>\n",
       "      <td>talisman</td>\n",
       "      <td>1.6 dCi Icon</td>\n",
       "      <td>2016</td>\n",
       "      <td>diesel</td>\n",
       "      <td>Semi-automatic</td>\n",
       "      <td>106300</td>\n",
       "      <td>smoked</td>\n",
       "      <td>417500</td>\n",
       "      <td>2</td>\n",
       "      <td>sedan</td>\n",
       "    </tr>\n",
       "    <tr>\n",
       "      <th>1</th>\n",
       "      <td>2022-03-28 00:00:00</td>\n",
       "      <td>6</td>\n",
       "      <td>Captiva</td>\n",
       "      <td>2.0 D LT High</td>\n",
       "      <td>2011</td>\n",
       "      <td>diesel</td>\n",
       "      <td>Semi-automatic</td>\n",
       "      <td>227500</td>\n",
       "      <td>white</td>\n",
       "      <td>219500</td>\n",
       "      <td>1</td>\n",
       "      <td>SUV</td>\n",
       "    </tr>\n",
       "    <tr>\n",
       "      <th>2</th>\n",
       "      <td>2022-03-28 00:00:00</td>\n",
       "      <td>45</td>\n",
       "      <td>Amarok</td>\n",
       "      <td>2.0 Bi-TDI Highline</td>\n",
       "      <td>2013</td>\n",
       "      <td>diesel</td>\n",
       "      <td>Automatic</td>\n",
       "      <td>150000</td>\n",
       "      <td>Black</td>\n",
       "      <td>359000</td>\n",
       "      <td>1</td>\n",
       "      <td>Pickup</td>\n",
       "    </tr>\n",
       "    <tr>\n",
       "      <th>3</th>\n",
       "      <td>2022-03-28 00:00:00</td>\n",
       "      <td>45</td>\n",
       "      <td>Amarok</td>\n",
       "      <td>2.0 Bi-TDI Highline</td>\n",
       "      <td>2017</td>\n",
       "      <td>diesel</td>\n",
       "      <td>Manual</td>\n",
       "      <td>115000</td>\n",
       "      <td>gray</td>\n",
       "      <td>505000</td>\n",
       "      <td>1</td>\n",
       "      <td>Pickup</td>\n",
       "    </tr>\n",
       "    <tr>\n",
       "      <th>4</th>\n",
       "      <td>March 30, 2022</td>\n",
       "      <td>8</td>\n",
       "      <td>duster</td>\n",
       "      <td>1.5 dCi Laureate</td>\n",
       "      <td>2016</td>\n",
       "      <td>diesel</td>\n",
       "      <td>Manual</td>\n",
       "      <td>60300</td>\n",
       "      <td>smoked</td>\n",
       "      <td>310000</td>\n",
       "      <td>2</td>\n",
       "      <td>SUV</td>\n",
       "    </tr>\n",
       "  </tbody>\n",
       "</table>\n",
       "</div>"
      ],
      "text/plain": [
       "         Listing date   Brand     sherry                 model  year    fuel  \\\n",
       "0       March 12, 2022     33  talisman          1.6 dCi Icon   2016  diesel   \n",
       "1  2022-03-28 00:00:00      6   Captiva         2.0 D LT High   2011  diesel   \n",
       "2  2022-03-28 00:00:00     45    Amarok   2.0 Bi-TDI Highline   2013  diesel   \n",
       "3  2022-03-28 00:00:00     45    Amarok   2.0 Bi-TDI Highline   2017  diesel   \n",
       "4       March 30, 2022      8    duster      1.5 dCi Laureate   2016  diesel   \n",
       "\n",
       "             gear      km   color   price  status caseType  \n",
       "0  Semi-automatic  106300  smoked  417500       2    sedan  \n",
       "1  Semi-automatic  227500   white  219500       1      SUV  \n",
       "2       Automatic  150000   Black  359000       1   Pickup  \n",
       "3          Manual  115000    gray  505000       1   Pickup  \n",
       "4          Manual   60300  smoked  310000       2      SUV  "
      ]
     },
     "execution_count": 183,
     "metadata": {},
     "output_type": "execute_result"
    }
   ],
   "source": [
    "df.head()"
   ]
  },
  {
   "cell_type": "code",
   "execution_count": 184,
   "metadata": {},
   "outputs": [],
   "source": [
    "Sherry1 = LabelEncoder()"
   ]
  },
  {
   "cell_type": "code",
   "execution_count": 185,
   "metadata": {},
   "outputs": [],
   "source": [
    "df['sherry']=Sherry1.fit_transform(df.sherry)"
   ]
  },
  {
   "cell_type": "code",
   "execution_count": 186,
   "metadata": {},
   "outputs": [],
   "source": [
    "fuel1=LabelEncoder()"
   ]
  },
  {
   "cell_type": "code",
   "execution_count": 187,
   "metadata": {},
   "outputs": [],
   "source": [
    "df['fuel']=fuel1.fit_transform(df.fuel)"
   ]
  },
  {
   "cell_type": "code",
   "execution_count": 188,
   "metadata": {},
   "outputs": [],
   "source": [
    "gear1=LabelEncoder()"
   ]
  },
  {
   "cell_type": "code",
   "execution_count": 189,
   "metadata": {},
   "outputs": [],
   "source": [
    "df['gear']=gear1.fit_transform(df.gear)"
   ]
  },
  {
   "cell_type": "code",
   "execution_count": 190,
   "metadata": {},
   "outputs": [
    {
     "data": {
      "text/html": [
       "<div>\n",
       "<style scoped>\n",
       "    .dataframe tbody tr th:only-of-type {\n",
       "        vertical-align: middle;\n",
       "    }\n",
       "\n",
       "    .dataframe tbody tr th {\n",
       "        vertical-align: top;\n",
       "    }\n",
       "\n",
       "    .dataframe thead th {\n",
       "        text-align: right;\n",
       "    }\n",
       "</style>\n",
       "<table border=\"1\" class=\"dataframe\">\n",
       "  <thead>\n",
       "    <tr style=\"text-align: right;\">\n",
       "      <th></th>\n",
       "      <th>Listing date</th>\n",
       "      <th>Brand</th>\n",
       "      <th>sherry</th>\n",
       "      <th>model</th>\n",
       "      <th>year</th>\n",
       "      <th>fuel</th>\n",
       "      <th>gear</th>\n",
       "      <th>km</th>\n",
       "      <th>color</th>\n",
       "      <th>price</th>\n",
       "      <th>status</th>\n",
       "      <th>caseType</th>\n",
       "    </tr>\n",
       "  </thead>\n",
       "  <tbody>\n",
       "    <tr>\n",
       "      <th>0</th>\n",
       "      <td>March 12, 2022</td>\n",
       "      <td>33</td>\n",
       "      <td>112</td>\n",
       "      <td>1.6 dCi Icon</td>\n",
       "      <td>2016</td>\n",
       "      <td>0</td>\n",
       "      <td>3</td>\n",
       "      <td>106300</td>\n",
       "      <td>smoked</td>\n",
       "      <td>417500</td>\n",
       "      <td>2</td>\n",
       "      <td>sedan</td>\n",
       "    </tr>\n",
       "    <tr>\n",
       "      <th>1</th>\n",
       "      <td>2022-03-28 00:00:00</td>\n",
       "      <td>6</td>\n",
       "      <td>17</td>\n",
       "      <td>2.0 D LT High</td>\n",
       "      <td>2011</td>\n",
       "      <td>0</td>\n",
       "      <td>3</td>\n",
       "      <td>227500</td>\n",
       "      <td>white</td>\n",
       "      <td>219500</td>\n",
       "      <td>1</td>\n",
       "      <td>SUV</td>\n",
       "    </tr>\n",
       "    <tr>\n",
       "      <th>2</th>\n",
       "      <td>2022-03-28 00:00:00</td>\n",
       "      <td>45</td>\n",
       "      <td>8</td>\n",
       "      <td>2.0 Bi-TDI Highline</td>\n",
       "      <td>2013</td>\n",
       "      <td>0</td>\n",
       "      <td>0</td>\n",
       "      <td>150000</td>\n",
       "      <td>Black</td>\n",
       "      <td>359000</td>\n",
       "      <td>1</td>\n",
       "      <td>Pickup</td>\n",
       "    </tr>\n",
       "    <tr>\n",
       "      <th>3</th>\n",
       "      <td>2022-03-28 00:00:00</td>\n",
       "      <td>45</td>\n",
       "      <td>8</td>\n",
       "      <td>2.0 Bi-TDI Highline</td>\n",
       "      <td>2017</td>\n",
       "      <td>0</td>\n",
       "      <td>1</td>\n",
       "      <td>115000</td>\n",
       "      <td>gray</td>\n",
       "      <td>505000</td>\n",
       "      <td>1</td>\n",
       "      <td>Pickup</td>\n",
       "    </tr>\n",
       "    <tr>\n",
       "      <th>4</th>\n",
       "      <td>March 30, 2022</td>\n",
       "      <td>8</td>\n",
       "      <td>90</td>\n",
       "      <td>1.5 dCi Laureate</td>\n",
       "      <td>2016</td>\n",
       "      <td>0</td>\n",
       "      <td>1</td>\n",
       "      <td>60300</td>\n",
       "      <td>smoked</td>\n",
       "      <td>310000</td>\n",
       "      <td>2</td>\n",
       "      <td>SUV</td>\n",
       "    </tr>\n",
       "  </tbody>\n",
       "</table>\n",
       "</div>"
      ],
      "text/plain": [
       "         Listing date   Brand  sherry                 model  year  fuel  gear  \\\n",
       "0       March 12, 2022     33     112         1.6 dCi Icon   2016     0     3   \n",
       "1  2022-03-28 00:00:00      6      17        2.0 D LT High   2011     0     3   \n",
       "2  2022-03-28 00:00:00     45       8  2.0 Bi-TDI Highline   2013     0     0   \n",
       "3  2022-03-28 00:00:00     45       8  2.0 Bi-TDI Highline   2017     0     1   \n",
       "4       March 30, 2022      8      90     1.5 dCi Laureate   2016     0     1   \n",
       "\n",
       "       km   color   price  status caseType  \n",
       "0  106300  smoked  417500       2    sedan  \n",
       "1  227500   white  219500       1      SUV  \n",
       "2  150000   Black  359000       1   Pickup  \n",
       "3  115000    gray  505000       1   Pickup  \n",
       "4   60300  smoked  310000       2      SUV  "
      ]
     },
     "execution_count": 190,
     "metadata": {},
     "output_type": "execute_result"
    }
   ],
   "source": [
    "df.head()"
   ]
  },
  {
   "cell_type": "code",
   "execution_count": 191,
   "metadata": {},
   "outputs": [],
   "source": [
    "year1=LabelEncoder()"
   ]
  },
  {
   "cell_type": "code",
   "execution_count": 192,
   "metadata": {},
   "outputs": [],
   "source": [
    "case_type1=LabelEncoder()"
   ]
  },
  {
   "cell_type": "code",
   "execution_count": 193,
   "metadata": {},
   "outputs": [
    {
     "data": {
      "text/html": [
       "<div>\n",
       "<style scoped>\n",
       "    .dataframe tbody tr th:only-of-type {\n",
       "        vertical-align: middle;\n",
       "    }\n",
       "\n",
       "    .dataframe tbody tr th {\n",
       "        vertical-align: top;\n",
       "    }\n",
       "\n",
       "    .dataframe thead th {\n",
       "        text-align: right;\n",
       "    }\n",
       "</style>\n",
       "<table border=\"1\" class=\"dataframe\">\n",
       "  <thead>\n",
       "    <tr style=\"text-align: right;\">\n",
       "      <th></th>\n",
       "      <th>Listing date</th>\n",
       "      <th>Brand</th>\n",
       "      <th>sherry</th>\n",
       "      <th>model</th>\n",
       "      <th>year</th>\n",
       "      <th>fuel</th>\n",
       "      <th>gear</th>\n",
       "      <th>km</th>\n",
       "      <th>color</th>\n",
       "      <th>price</th>\n",
       "      <th>status</th>\n",
       "      <th>caseType</th>\n",
       "    </tr>\n",
       "  </thead>\n",
       "  <tbody>\n",
       "    <tr>\n",
       "      <th>0</th>\n",
       "      <td>March 12, 2022</td>\n",
       "      <td>33</td>\n",
       "      <td>112</td>\n",
       "      <td>1.6 dCi Icon</td>\n",
       "      <td>2016</td>\n",
       "      <td>0</td>\n",
       "      <td>3</td>\n",
       "      <td>106300</td>\n",
       "      <td>smoked</td>\n",
       "      <td>417500</td>\n",
       "      <td>2</td>\n",
       "      <td>sedan</td>\n",
       "    </tr>\n",
       "    <tr>\n",
       "      <th>1</th>\n",
       "      <td>2022-03-28 00:00:00</td>\n",
       "      <td>6</td>\n",
       "      <td>17</td>\n",
       "      <td>2.0 D LT High</td>\n",
       "      <td>2011</td>\n",
       "      <td>0</td>\n",
       "      <td>3</td>\n",
       "      <td>227500</td>\n",
       "      <td>white</td>\n",
       "      <td>219500</td>\n",
       "      <td>1</td>\n",
       "      <td>SUV</td>\n",
       "    </tr>\n",
       "    <tr>\n",
       "      <th>2</th>\n",
       "      <td>2022-03-28 00:00:00</td>\n",
       "      <td>45</td>\n",
       "      <td>8</td>\n",
       "      <td>2.0 Bi-TDI Highline</td>\n",
       "      <td>2013</td>\n",
       "      <td>0</td>\n",
       "      <td>0</td>\n",
       "      <td>150000</td>\n",
       "      <td>Black</td>\n",
       "      <td>359000</td>\n",
       "      <td>1</td>\n",
       "      <td>Pickup</td>\n",
       "    </tr>\n",
       "    <tr>\n",
       "      <th>3</th>\n",
       "      <td>2022-03-28 00:00:00</td>\n",
       "      <td>45</td>\n",
       "      <td>8</td>\n",
       "      <td>2.0 Bi-TDI Highline</td>\n",
       "      <td>2017</td>\n",
       "      <td>0</td>\n",
       "      <td>1</td>\n",
       "      <td>115000</td>\n",
       "      <td>gray</td>\n",
       "      <td>505000</td>\n",
       "      <td>1</td>\n",
       "      <td>Pickup</td>\n",
       "    </tr>\n",
       "    <tr>\n",
       "      <th>4</th>\n",
       "      <td>March 30, 2022</td>\n",
       "      <td>8</td>\n",
       "      <td>90</td>\n",
       "      <td>1.5 dCi Laureate</td>\n",
       "      <td>2016</td>\n",
       "      <td>0</td>\n",
       "      <td>1</td>\n",
       "      <td>60300</td>\n",
       "      <td>smoked</td>\n",
       "      <td>310000</td>\n",
       "      <td>2</td>\n",
       "      <td>SUV</td>\n",
       "    </tr>\n",
       "  </tbody>\n",
       "</table>\n",
       "</div>"
      ],
      "text/plain": [
       "         Listing date   Brand  sherry                 model  year  fuel  gear  \\\n",
       "0       March 12, 2022     33     112         1.6 dCi Icon   2016     0     3   \n",
       "1  2022-03-28 00:00:00      6      17        2.0 D LT High   2011     0     3   \n",
       "2  2022-03-28 00:00:00     45       8  2.0 Bi-TDI Highline   2013     0     0   \n",
       "3  2022-03-28 00:00:00     45       8  2.0 Bi-TDI Highline   2017     0     1   \n",
       "4       March 30, 2022      8      90     1.5 dCi Laureate   2016     0     1   \n",
       "\n",
       "       km   color   price  status caseType  \n",
       "0  106300  smoked  417500       2    sedan  \n",
       "1  227500   white  219500       1      SUV  \n",
       "2  150000   Black  359000       1   Pickup  \n",
       "3  115000    gray  505000       1   Pickup  \n",
       "4   60300  smoked  310000       2      SUV  "
      ]
     },
     "execution_count": 193,
     "metadata": {},
     "output_type": "execute_result"
    }
   ],
   "source": [
    "df.head()"
   ]
  },
  {
   "cell_type": "code",
   "execution_count": 194,
   "metadata": {},
   "outputs": [],
   "source": [
    "df['caseType']=case_type1.fit_transform(df.caseType)"
   ]
  },
  {
   "cell_type": "code",
   "execution_count": 195,
   "metadata": {},
   "outputs": [
    {
     "data": {
      "text/html": [
       "<div>\n",
       "<style scoped>\n",
       "    .dataframe tbody tr th:only-of-type {\n",
       "        vertical-align: middle;\n",
       "    }\n",
       "\n",
       "    .dataframe tbody tr th {\n",
       "        vertical-align: top;\n",
       "    }\n",
       "\n",
       "    .dataframe thead th {\n",
       "        text-align: right;\n",
       "    }\n",
       "</style>\n",
       "<table border=\"1\" class=\"dataframe\">\n",
       "  <thead>\n",
       "    <tr style=\"text-align: right;\">\n",
       "      <th></th>\n",
       "      <th>Listing date</th>\n",
       "      <th>Brand</th>\n",
       "      <th>sherry</th>\n",
       "      <th>model</th>\n",
       "      <th>year</th>\n",
       "      <th>fuel</th>\n",
       "      <th>gear</th>\n",
       "      <th>km</th>\n",
       "      <th>color</th>\n",
       "      <th>price</th>\n",
       "      <th>status</th>\n",
       "      <th>caseType</th>\n",
       "    </tr>\n",
       "  </thead>\n",
       "  <tbody>\n",
       "    <tr>\n",
       "      <th>0</th>\n",
       "      <td>March 12, 2022</td>\n",
       "      <td>33</td>\n",
       "      <td>112</td>\n",
       "      <td>1.6 dCi Icon</td>\n",
       "      <td>2016</td>\n",
       "      <td>0</td>\n",
       "      <td>3</td>\n",
       "      <td>106300</td>\n",
       "      <td>smoked</td>\n",
       "      <td>417500</td>\n",
       "      <td>2</td>\n",
       "      <td>20</td>\n",
       "    </tr>\n",
       "    <tr>\n",
       "      <th>1</th>\n",
       "      <td>2022-03-28 00:00:00</td>\n",
       "      <td>6</td>\n",
       "      <td>17</td>\n",
       "      <td>2.0 D LT High</td>\n",
       "      <td>2011</td>\n",
       "      <td>0</td>\n",
       "      <td>3</td>\n",
       "      <td>227500</td>\n",
       "      <td>white</td>\n",
       "      <td>219500</td>\n",
       "      <td>1</td>\n",
       "      <td>8</td>\n",
       "    </tr>\n",
       "    <tr>\n",
       "      <th>2</th>\n",
       "      <td>2022-03-28 00:00:00</td>\n",
       "      <td>45</td>\n",
       "      <td>8</td>\n",
       "      <td>2.0 Bi-TDI Highline</td>\n",
       "      <td>2013</td>\n",
       "      <td>0</td>\n",
       "      <td>0</td>\n",
       "      <td>150000</td>\n",
       "      <td>Black</td>\n",
       "      <td>359000</td>\n",
       "      <td>1</td>\n",
       "      <td>7</td>\n",
       "    </tr>\n",
       "    <tr>\n",
       "      <th>3</th>\n",
       "      <td>2022-03-28 00:00:00</td>\n",
       "      <td>45</td>\n",
       "      <td>8</td>\n",
       "      <td>2.0 Bi-TDI Highline</td>\n",
       "      <td>2017</td>\n",
       "      <td>0</td>\n",
       "      <td>1</td>\n",
       "      <td>115000</td>\n",
       "      <td>gray</td>\n",
       "      <td>505000</td>\n",
       "      <td>1</td>\n",
       "      <td>7</td>\n",
       "    </tr>\n",
       "    <tr>\n",
       "      <th>4</th>\n",
       "      <td>March 30, 2022</td>\n",
       "      <td>8</td>\n",
       "      <td>90</td>\n",
       "      <td>1.5 dCi Laureate</td>\n",
       "      <td>2016</td>\n",
       "      <td>0</td>\n",
       "      <td>1</td>\n",
       "      <td>60300</td>\n",
       "      <td>smoked</td>\n",
       "      <td>310000</td>\n",
       "      <td>2</td>\n",
       "      <td>8</td>\n",
       "    </tr>\n",
       "  </tbody>\n",
       "</table>\n",
       "</div>"
      ],
      "text/plain": [
       "         Listing date   Brand  sherry                 model  year  fuel  gear  \\\n",
       "0       March 12, 2022     33     112         1.6 dCi Icon   2016     0     3   \n",
       "1  2022-03-28 00:00:00      6      17        2.0 D LT High   2011     0     3   \n",
       "2  2022-03-28 00:00:00     45       8  2.0 Bi-TDI Highline   2013     0     0   \n",
       "3  2022-03-28 00:00:00     45       8  2.0 Bi-TDI Highline   2017     0     1   \n",
       "4       March 30, 2022      8      90     1.5 dCi Laureate   2016     0     1   \n",
       "\n",
       "       km   color   price  status  caseType  \n",
       "0  106300  smoked  417500       2        20  \n",
       "1  227500   white  219500       1         8  \n",
       "2  150000   Black  359000       1         7  \n",
       "3  115000    gray  505000       1         7  \n",
       "4   60300  smoked  310000       2         8  "
      ]
     },
     "execution_count": 195,
     "metadata": {},
     "output_type": "execute_result"
    }
   ],
   "source": [
    "df.head()"
   ]
  },
  {
   "cell_type": "code",
   "execution_count": 196,
   "metadata": {},
   "outputs": [],
   "source": [
    "color1=LabelEncoder()"
   ]
  },
  {
   "cell_type": "code",
   "execution_count": 197,
   "metadata": {},
   "outputs": [],
   "source": [
    "df['color']=color1.fit_transform(df.color)"
   ]
  },
  {
   "cell_type": "code",
   "execution_count": 198,
   "metadata": {},
   "outputs": [],
   "source": [
    "#status1=LabelEncoder()"
   ]
  },
  {
   "cell_type": "code",
   "execution_count": 199,
   "metadata": {},
   "outputs": [],
   "source": [
    "#df['status']=status1.fit_transform(df.status)"
   ]
  },
  {
   "cell_type": "code",
   "execution_count": 200,
   "metadata": {},
   "outputs": [],
   "source": [
    "model1=LabelEncoder()"
   ]
  },
  {
   "cell_type": "code",
   "execution_count": 201,
   "metadata": {},
   "outputs": [],
   "source": [
    "df['model']=status1.fit_transform(df.model)"
   ]
  },
  {
   "cell_type": "code",
   "execution_count": 202,
   "metadata": {},
   "outputs": [
    {
     "data": {
      "text/html": [
       "<div>\n",
       "<style scoped>\n",
       "    .dataframe tbody tr th:only-of-type {\n",
       "        vertical-align: middle;\n",
       "    }\n",
       "\n",
       "    .dataframe tbody tr th {\n",
       "        vertical-align: top;\n",
       "    }\n",
       "\n",
       "    .dataframe thead th {\n",
       "        text-align: right;\n",
       "    }\n",
       "</style>\n",
       "<table border=\"1\" class=\"dataframe\">\n",
       "  <thead>\n",
       "    <tr style=\"text-align: right;\">\n",
       "      <th></th>\n",
       "      <th>Listing date</th>\n",
       "      <th>Brand</th>\n",
       "      <th>sherry</th>\n",
       "      <th>model</th>\n",
       "      <th>year</th>\n",
       "      <th>fuel</th>\n",
       "      <th>gear</th>\n",
       "      <th>km</th>\n",
       "      <th>color</th>\n",
       "      <th>price</th>\n",
       "      <th>status</th>\n",
       "      <th>caseType</th>\n",
       "    </tr>\n",
       "  </thead>\n",
       "  <tbody>\n",
       "    <tr>\n",
       "      <th>0</th>\n",
       "      <td>March 12, 2022</td>\n",
       "      <td>33</td>\n",
       "      <td>112</td>\n",
       "      <td>53</td>\n",
       "      <td>2016</td>\n",
       "      <td>0</td>\n",
       "      <td>3</td>\n",
       "      <td>106300</td>\n",
       "      <td>20</td>\n",
       "      <td>417500</td>\n",
       "      <td>2</td>\n",
       "      <td>20</td>\n",
       "    </tr>\n",
       "    <tr>\n",
       "      <th>1</th>\n",
       "      <td>2022-03-28 00:00:00</td>\n",
       "      <td>6</td>\n",
       "      <td>17</td>\n",
       "      <td>67</td>\n",
       "      <td>2011</td>\n",
       "      <td>0</td>\n",
       "      <td>3</td>\n",
       "      <td>227500</td>\n",
       "      <td>21</td>\n",
       "      <td>219500</td>\n",
       "      <td>1</td>\n",
       "      <td>8</td>\n",
       "    </tr>\n",
       "    <tr>\n",
       "      <th>2</th>\n",
       "      <td>2022-03-28 00:00:00</td>\n",
       "      <td>45</td>\n",
       "      <td>8</td>\n",
       "      <td>65</td>\n",
       "      <td>2013</td>\n",
       "      <td>0</td>\n",
       "      <td>0</td>\n",
       "      <td>150000</td>\n",
       "      <td>0</td>\n",
       "      <td>359000</td>\n",
       "      <td>1</td>\n",
       "      <td>7</td>\n",
       "    </tr>\n",
       "    <tr>\n",
       "      <th>3</th>\n",
       "      <td>2022-03-28 00:00:00</td>\n",
       "      <td>45</td>\n",
       "      <td>8</td>\n",
       "      <td>65</td>\n",
       "      <td>2017</td>\n",
       "      <td>0</td>\n",
       "      <td>1</td>\n",
       "      <td>115000</td>\n",
       "      <td>14</td>\n",
       "      <td>505000</td>\n",
       "      <td>1</td>\n",
       "      <td>7</td>\n",
       "    </tr>\n",
       "    <tr>\n",
       "      <th>4</th>\n",
       "      <td>March 30, 2022</td>\n",
       "      <td>8</td>\n",
       "      <td>90</td>\n",
       "      <td>23</td>\n",
       "      <td>2016</td>\n",
       "      <td>0</td>\n",
       "      <td>1</td>\n",
       "      <td>60300</td>\n",
       "      <td>20</td>\n",
       "      <td>310000</td>\n",
       "      <td>2</td>\n",
       "      <td>8</td>\n",
       "    </tr>\n",
       "  </tbody>\n",
       "</table>\n",
       "</div>"
      ],
      "text/plain": [
       "         Listing date   Brand  sherry  model  year  fuel  gear      km  color  \\\n",
       "0       March 12, 2022     33     112     53  2016     0     3  106300     20   \n",
       "1  2022-03-28 00:00:00      6      17     67  2011     0     3  227500     21   \n",
       "2  2022-03-28 00:00:00     45       8     65  2013     0     0  150000      0   \n",
       "3  2022-03-28 00:00:00     45       8     65  2017     0     1  115000     14   \n",
       "4       March 30, 2022      8      90     23  2016     0     1   60300     20   \n",
       "\n",
       "    price  status  caseType  \n",
       "0  417500       2        20  \n",
       "1  219500       1         8  \n",
       "2  359000       1         7  \n",
       "3  505000       1         7  \n",
       "4  310000       2         8  "
      ]
     },
     "execution_count": 202,
     "metadata": {},
     "output_type": "execute_result"
    }
   ],
   "source": [
    "df.head()"
   ]
  },
  {
   "cell_type": "code",
   "execution_count": 203,
   "metadata": {},
   "outputs": [
    {
     "data": {
      "image/png": "[encoded data removed]",
      "text/plain": [
       "<Figure size 504x504 with 2 Axes>"
      ]
     },
     "metadata": {},
     "output_type": "display_data"
    }
   ],
   "source": [
    "Corrmat = df.corr()\n",
    "plt.subplots(figsize=(7,7))\n",
    "sns.heatmap(Corrmat, cmap=\"PuBu\", square = True, annot=True, fmt='.2f')\n",
    "plt.show()"
   ]
  },
  {
   "cell_type": "code",
   "execution_count": 205,
   "metadata": {},
   "outputs": [
    {
     "data": {
      "text/plain": [
       "Index(['Listing date ', 'Brand', 'sherry', 'model', 'year', 'fuel', 'gear',\n",
       "       'km', 'color', 'price', 'status', 'caseType'],\n",
       "      dtype='object')"
      ]
     },
     "execution_count": 205,
     "metadata": {},
     "output_type": "execute_result"
    }
   ],
   "source": [
    "df.columns"
   ]
  },
  {
   "cell_type": "code",
   "execution_count": 207,
   "metadata": {},
   "outputs": [],
   "source": [
    "df2 = df[['Brand', 'sherry', 'model', 'year', 'fuel', 'gear',\n",
    "       'km', 'color', 'price', 'status', 'caseType']]"
   ]
  },
  {
   "cell_type": "code",
   "execution_count": 208,
   "metadata": {},
   "outputs": [],
   "source": [
    "from sklearn.preprocessing import StandardScaler\n",
    "scaler = StandardScaler()\n",
    "# fit and transform the data\n",
    "scaled_data = scaler.fit_transform(df2)"
   ]
  },
  {
   "cell_type": "markdown",
   "metadata": {},
   "source": [
    "# Modelling"
   ]
  },
  {
   "cell_type": "code",
   "execution_count": 218,
   "metadata": {},
   "outputs": [],
   "source": [
    "x = df2.drop(['price'],axis = 1).values\n",
    "y = df2[\"price\"].values"
   ]
  },
  {
   "cell_type": "code",
   "execution_count": 243,
   "metadata": {},
   "outputs": [],
   "source": [
    "x_train, x_test, y_train, y_test = train_test_split(x,y,test_size = 0.15, random_state = 40)"
   ]
  },
  {
   "cell_type": "code",
   "execution_count": 244,
   "metadata": {},
   "outputs": [],
   "source": [
    "lr = LinearRegression()\n",
    "lr.fit(x_train, y_train)\n",
    "y_predict = lr.predict(x_test)"
   ]
  },
  {
   "cell_type": "code",
   "execution_count": 245,
   "metadata": {},
   "outputs": [
    {
     "name": "stdout",
     "output_type": "stream",
     "text": [
      "Accuracy on Traing set:  0.3285356625891739\n",
      "Accuracy on Testing set:  0.30419193309770554\n"
     ]
    }
   ],
   "source": [
    "print(\"Accuracy on Traing set: \",lr.score(x_train,y_train))\n",
    "print(\"Accuracy on Testing set: \",lr.score(x_test,y_test))"
   ]
  },
  {
   "cell_type": "code",
   "execution_count": 246,
   "metadata": {},
   "outputs": [
    {
     "data": {
      "text/plain": [
       "17.75147928994083"
      ]
     },
     "execution_count": 246,
     "metadata": {},
     "output_type": "execute_result"
    }
   ],
   "source": [
    "100*x_test.shape[0]/x_train.shape[0]"
   ]
  },
  {
   "cell_type": "code",
   "execution_count": 247,
   "metadata": {},
   "outputs": [
    {
     "name": "stdout",
     "output_type": "stream",
     "text": [
      "Variance score: 0.30\n"
     ]
    }
   ],
   "source": [
    "# Explained variance score: 1 is perfect prediction\n",
    "print('Variance score: %.2f' % lr.score(x_test, y_test))"
   ]
  },
  {
   "cell_type": "code",
   "execution_count": 248,
   "metadata": {},
   "outputs": [
    {
     "data": {
      "text/plain": [
       "array([-195329.75464419,  119763.49784068,   86822.77161627,\n",
       "       -440234.45161235,  374856.48213081,  333886.98317674,\n",
       "       -168947.07588083, -219909.62348618, -267115.99418325,\n",
       "         13470.1611126 ,   13374.5049812 ,   21455.67592686,\n",
       "       -145808.61349667, -313927.49192428, -198208.75294931,\n",
       "       -119140.89668085,  -30054.5834247 ,    3392.41401161,\n",
       "       -103560.89580593, -263249.9534713 ,  -59364.38289082,\n",
       "        -36754.59752847,  -84810.62748523, -181907.82086403,\n",
       "       -151632.78535929,   62584.63304834,  318647.38151381,\n",
       "         18960.89443851,  369241.10480008,  428735.27480627])"
      ]
     },
     "execution_count": 248,
     "metadata": {},
     "output_type": "execute_result"
    }
   ],
   "source": [
    "test_residuals = y_test - y_predict\n",
    "test_residuals"
   ]
  },
  {
   "cell_type": "code",
   "execution_count": 249,
   "metadata": {},
   "outputs": [
    {
     "name": "stdout",
     "output_type": "stream",
     "text": [
      "Mean squared error: 46775426249.34\n"
     ]
    }
   ],
   "source": [
    "# The mean squared error\n",
    "print(\"Mean squared error: %.2f\" % np.mean((lr.predict(x_test) - y_test) ** 2))"
   ]
  },
  {
   "cell_type": "code",
   "execution_count": 250,
   "metadata": {
    "scrolled": true
   },
   "outputs": [
    {
     "data": {
      "image/png": "[encoded data removed]",
      "text/plain": [
       "<Figure size 432x288 with 1 Axes>"
      ]
     },
     "metadata": {},
     "output_type": "display_data"
    }
   ],
   "source": [
    "sns.scatterplot(x=y_test,y=test_residuals)\n",
    "plt.axhline(y=0,color='red')\n",
    "plt.title('Residual Plot');"
   ]
  },
  {
   "cell_type": "code",
   "execution_count": 251,
   "metadata": {},
   "outputs": [],
   "source": [
    "from sklearn.ensemble import RandomForestRegressor\n"
   ]
  },
  {
   "cell_type": "code",
   "execution_count": 252,
   "metadata": {},
   "outputs": [],
   "source": [
    "rf_reg = RandomForestRegressor()\n",
    "rf_reg.fit(x_train, y_train)\n",
    "y_predict = rf_reg.predict(x_test)"
   ]
  },
  {
   "cell_type": "code",
   "execution_count": 253,
   "metadata": {},
   "outputs": [
    {
     "name": "stdout",
     "output_type": "stream",
     "text": [
      "Accuracy on Traing set:  0.9495518890982088\n",
      "Accuracy on Testing set:  0.5458773032656389\n"
     ]
    }
   ],
   "source": [
    "print(\"Accuracy on Traing set: \",rf_reg.score(x_train,y_train))\n",
    "print(\"Accuracy on Testing set: \",rf_reg.score(x_test,y_test))"
   ]
  },
  {
   "cell_type": "code",
   "execution_count": 254,
   "metadata": {},
   "outputs": [
    {
     "data": {
      "text/plain": [
       "17.75147928994083"
      ]
     },
     "execution_count": 254,
     "metadata": {},
     "output_type": "execute_result"
    }
   ],
   "source": [
    "100*x_test.shape[0]/x_train.shape[0]"
   ]
  },
  {
   "cell_type": "code",
   "execution_count": 255,
   "metadata": {},
   "outputs": [
    {
     "name": "stdout",
     "output_type": "stream",
     "text": [
      "Variance score: 0.55\n"
     ]
    }
   ],
   "source": [
    "# Explained variance score: 1 is perfect prediction\n",
    "print('Variance score: %.2f' % rf_reg.score(x_test, y_test))"
   ]
  },
  {
   "cell_type": "code",
   "execution_count": 256,
   "metadata": {},
   "outputs": [
    {
     "data": {
      "text/plain": [
       "array([ -14205.  ,   25117.  ,  103313.5 , -387691.5 ,  227186.5 ,\n",
       "        224611.  , -204110.  , -308185.39,  -85140.  ,   42619.5 ,\n",
       "       -103238.  ,  -47413.  , -159857.39,  -21037.5 ,  -50825.  ,\n",
       "       -133047.  , -192545.  ,  -33474.5 , -204898.5 , -270303.5 ,\n",
       "        -48991.5 ,  -11324.  ,  123970.  ,  -77628.  ,  -94311.5 ,\n",
       "        149000.  ,  -66360.  ,  164037.5 ,  444016.  ,  101771.  ])"
      ]
     },
     "execution_count": 256,
     "metadata": {},
     "output_type": "execute_result"
    }
   ],
   "source": [
    "test_residuals = y_test - y_predict\n",
    "test_residuals"
   ]
  },
  {
   "cell_type": "code",
   "execution_count": 257,
   "metadata": {},
   "outputs": [
    {
     "name": "stdout",
     "output_type": "stream",
     "text": [
      "Mean squared error: 30528221386.99\n"
     ]
    }
   ],
   "source": [
    "# The mean squared error\n",
    "print(\"Mean squared error: %.2f\" % np.mean((rf_reg.predict(x_test) - y_test) ** 2))"
   ]
  },
  {
   "cell_type": "code",
   "execution_count": 258,
   "metadata": {
    "scrolled": true
   },
   "outputs": [
    {
     "data": {
      "image/png": "[encoded data removed]",
      "text/plain": [
       "<Figure size 432x288 with 1 Axes>"
      ]
     },
     "metadata": {},
     "output_type": "display_data"
    }
   ],
   "source": [
    "sns.scatterplot(x=y_test,y=test_residuals)\n",
    "plt.axhline(y=0,color='red')\n",
    "plt.title('Residual Plot');"
   ]
  },
  {
   "cell_type": "code",
   "execution_count": null,
   "metadata": {},
   "outputs": [],
   "source": []
  },
  {
   "cell_type": "code",
   "execution_count": null,
   "metadata": {},
   "outputs": [],
   "source": []
  }
 ],
 "metadata": {
  "kernelspec": {
   "display_name": "Python 3",
   "language": "python",
   "name": "python3"
  },
  "language_info": {
   "codemirror_mode": {
    "name": "ipython",
    "version": 3
   },
   "file_extension": ".py",
   "mimetype": "text/x-python",
   "name": "python",
   "nbconvert_exporter": "python",
   "pygments_lexer": "ipython3",
   "version": "3.8.3"
  }
 },
 "nbformat": 4,
 "nbformat_minor": 4
}
